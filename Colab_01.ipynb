{
  "nbformat": 4,
  "nbformat_minor": 0,
  "metadata": {
    "colab": {
      "name": "Colab_01.ipynb",
      "provenance": [],
      "collapsed_sections": [],
      "authorship_tag": "ABX9TyPVWiRkTDk0DKqpiqRDtalh",
      "include_colab_link": true
    },
    "kernelspec": {
      "name": "python3",
      "display_name": "Python 3"
    }
  },
  "cells": [
    {
      "cell_type": "markdown",
      "metadata": {
        "id": "view-in-github",
        "colab_type": "text"
      },
      "source": [
        "<a href=\"https://colab.research.google.com/github/jrmfilho34/Rede-Neural/blob/master/Colab_01.ipynb\" target=\"_parent\"><img src=\"https://colab.research.google.com/assets/colab-badge.svg\" alt=\"Open In Colab\"/></a>"
      ]
    },
    {
      "cell_type": "code",
      "metadata": {
        "id": "ZkS3QJafe28B",
        "colab_type": "code",
        "colab": {}
      },
      "source": [
        "\" importação das bibliotecas \"\n",
        "import tensorflow as tf\n",
        "\n",
        "import matplotlib as mpl\n",
        "import matplotlib.pyplot as plt\n",
        "import numpy as np\n",
        "import os\n",
        "import pandas as pd\n"
      ],
      "execution_count": 0,
      "outputs": []
    },
    {
      "cell_type": "code",
      "metadata": {
        "id": "31rZnWWBnst2",
        "colab_type": "code",
        "outputId": "aa5a9b9b-1b42-4af5-cc9f-a91b4063bc74",
        "colab": {
          "base_uri": "https://localhost:8080/",
          "height": 204
        }
      },
      "source": [
        "\"Importação do dados IBOV\"\n",
        "df =  pd.read_csv(\"https://query1.finance.yahoo.com/v7/finance/download/%5EBVSP?period1=1417392000&period2=1588204800&interval=1d&events=history\", sep=\",\")\n",
        "df.columns\n",
        "df.head()"
      ],
      "execution_count": 6,
      "outputs": [
        {
          "output_type": "execute_result",
          "data": {
            "text/html": [
              "<div>\n",
              "<style scoped>\n",
              "    .dataframe tbody tr th:only-of-type {\n",
              "        vertical-align: middle;\n",
              "    }\n",
              "\n",
              "    .dataframe tbody tr th {\n",
              "        vertical-align: top;\n",
              "    }\n",
              "\n",
              "    .dataframe thead th {\n",
              "        text-align: right;\n",
              "    }\n",
              "</style>\n",
              "<table border=\"1\" class=\"dataframe\">\n",
              "  <thead>\n",
              "    <tr style=\"text-align: right;\">\n",
              "      <th></th>\n",
              "      <th>Date</th>\n",
              "      <th>Open</th>\n",
              "      <th>High</th>\n",
              "      <th>Low</th>\n",
              "      <th>Close</th>\n",
              "      <th>Adj Close</th>\n",
              "      <th>Volume</th>\n",
              "    </tr>\n",
              "  </thead>\n",
              "  <tbody>\n",
              "    <tr>\n",
              "      <th>0</th>\n",
              "      <td>2014-12-01</td>\n",
              "      <td>54719.0</td>\n",
              "      <td>54719.0</td>\n",
              "      <td>52156.0</td>\n",
              "      <td>52276.0</td>\n",
              "      <td>52276.0</td>\n",
              "      <td>4312800.0</td>\n",
              "    </tr>\n",
              "    <tr>\n",
              "      <th>1</th>\n",
              "      <td>2014-12-02</td>\n",
              "      <td>52277.0</td>\n",
              "      <td>52639.0</td>\n",
              "      <td>51471.0</td>\n",
              "      <td>51612.0</td>\n",
              "      <td>51612.0</td>\n",
              "      <td>3296400.0</td>\n",
              "    </tr>\n",
              "    <tr>\n",
              "      <th>2</th>\n",
              "      <td>2014-12-03</td>\n",
              "      <td>51610.0</td>\n",
              "      <td>52470.0</td>\n",
              "      <td>51610.0</td>\n",
              "      <td>52320.0</td>\n",
              "      <td>52320.0</td>\n",
              "      <td>2724600.0</td>\n",
              "    </tr>\n",
              "    <tr>\n",
              "      <th>3</th>\n",
              "      <td>2014-12-04</td>\n",
              "      <td>52320.0</td>\n",
              "      <td>52539.0</td>\n",
              "      <td>51074.0</td>\n",
              "      <td>51427.0</td>\n",
              "      <td>51427.0</td>\n",
              "      <td>2913300.0</td>\n",
              "    </tr>\n",
              "    <tr>\n",
              "      <th>4</th>\n",
              "      <td>2014-12-05</td>\n",
              "      <td>51427.0</td>\n",
              "      <td>52023.0</td>\n",
              "      <td>51163.0</td>\n",
              "      <td>51992.0</td>\n",
              "      <td>51992.0</td>\n",
              "      <td>2530100.0</td>\n",
              "    </tr>\n",
              "  </tbody>\n",
              "</table>\n",
              "</div>"
            ],
            "text/plain": [
              "         Date     Open     High      Low    Close  Adj Close     Volume\n",
              "0  2014-12-01  54719.0  54719.0  52156.0  52276.0    52276.0  4312800.0\n",
              "1  2014-12-02  52277.0  52639.0  51471.0  51612.0    51612.0  3296400.0\n",
              "2  2014-12-03  51610.0  52470.0  51610.0  52320.0    52320.0  2724600.0\n",
              "3  2014-12-04  52320.0  52539.0  51074.0  51427.0    51427.0  2913300.0\n",
              "4  2014-12-05  51427.0  52023.0  51163.0  51992.0    51992.0  2530100.0"
            ]
          },
          "metadata": {
            "tags": []
          },
          "execution_count": 6
        }
      ]
    }
  ]
}