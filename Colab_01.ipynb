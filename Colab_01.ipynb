{
  "nbformat": 4,
  "nbformat_minor": 0,
  "metadata": {
    "colab": {
      "name": "Colab_01.ipynb",
      "provenance": [],
      "collapsed_sections": [],
      "authorship_tag": "ABX9TyNs7dDhjFI6+08PjDKdbNXl",
      "include_colab_link": true
    },
    "kernelspec": {
      "name": "python3",
      "display_name": "Python 3"
    }
  },
  "cells": [
    {
      "cell_type": "markdown",
      "metadata": {
        "id": "view-in-github",
        "colab_type": "text"
      },
      "source": [
        "<a href=\"https://colab.research.google.com/github/jrmfilho34/Rede-Neural/blob/master/Colab_01.ipynb\" target=\"_parent\"><img src=\"https://colab.research.google.com/assets/colab-badge.svg\" alt=\"Open In Colab\"/></a>"
      ]
    },
    {
      "cell_type": "code",
      "metadata": {
        "id": "ZkS3QJafe28B",
        "colab_type": "code",
        "colab": {}
      },
      "source": [
        "\" importação das bibliotecas \"\n",
        "import tensorflow as tf\n",
        "\n",
        "import matplotlib as mpl\n",
        "import matplotlib.pyplot as plt\n",
        "import numpy as np\n",
        "import os\n",
        "import pandas as pd\n"
      ],
      "execution_count": 0,
      "outputs": []
    },
    {
      "cell_type": "code",
      "metadata": {
        "id": "31rZnWWBnst2",
        "colab_type": "code",
        "outputId": "31b4f196-447e-4744-a38b-17dffe67b633",
        "colab": {
          "base_uri": "https://localhost:8080/",
          "height": 34
        }
      },
      "source": [
        "\"Importação do dados IBOV\"\n",
        "df =  pd.read_csv(\"https://query1.finance.yahoo.com/v7/finance/download/%5EBVSP?period1=1417392000&period2=1588204800&interval=1d&events=history\", sep=\",\")\n",
        "df.columns\n",
        "df.head()\n"
      ],
      "execution_count": 7,
      "outputs": [
        {
          "output_type": "execute_result",
          "data": {
            "text/plain": [
              "(1344, 7)"
            ]
          },
          "metadata": {
            "tags": []
          },
          "execution_count": 7
        }
      ]
    },
    {
      "cell_type": "code",
      "metadata": {
        "id": "ejr0xyVH1rw0",
        "colab_type": "code",
        "colab": {
          "base_uri": "https://localhost:8080/",
          "height": 34
        },
        "outputId": "2b8f8940-7ea0-473f-8ed4-4fe36c1e76af"
      },
      "source": [
        "df.dropna()\n",
        "df.shape"
      ],
      "execution_count": 8,
      "outputs": [
        {
          "output_type": "execute_result",
          "data": {
            "text/plain": [
              "(1344, 7)"
            ]
          },
          "metadata": {
            "tags": []
          },
          "execution_count": 8
        }
      ]
    },
    {
      "cell_type": "code",
      "metadata": {
        "id": "kDAyeLOf15Mc",
        "colab_type": "code",
        "colab": {}
      },
      "source": [
        "features_considered = ['Open']\n"
      ],
      "execution_count": 0,
      "outputs": []
    },
    {
      "cell_type": "code",
      "metadata": {
        "id": "AoLlOa_kYBVn",
        "colab_type": "code",
        "outputId": "d1812534-aebd-4174-fed4-08898d4e75eb",
        "colab": {
          "base_uri": "https://localhost:8080/",
          "height": 235
        }
      },
      "source": [
        "features = df[features_considered]\n",
        "features.index = df['Date']\n",
        "features.head()"
      ],
      "execution_count": 10,
      "outputs": [
        {
          "output_type": "execute_result",
          "data": {
            "text/html": [
              "<div>\n",
              "<style scoped>\n",
              "    .dataframe tbody tr th:only-of-type {\n",
              "        vertical-align: middle;\n",
              "    }\n",
              "\n",
              "    .dataframe tbody tr th {\n",
              "        vertical-align: top;\n",
              "    }\n",
              "\n",
              "    .dataframe thead th {\n",
              "        text-align: right;\n",
              "    }\n",
              "</style>\n",
              "<table border=\"1\" class=\"dataframe\">\n",
              "  <thead>\n",
              "    <tr style=\"text-align: right;\">\n",
              "      <th></th>\n",
              "      <th>Open</th>\n",
              "    </tr>\n",
              "    <tr>\n",
              "      <th>Date</th>\n",
              "      <th></th>\n",
              "    </tr>\n",
              "  </thead>\n",
              "  <tbody>\n",
              "    <tr>\n",
              "      <th>2014-12-01</th>\n",
              "      <td>54719.0</td>\n",
              "    </tr>\n",
              "    <tr>\n",
              "      <th>2014-12-02</th>\n",
              "      <td>52277.0</td>\n",
              "    </tr>\n",
              "    <tr>\n",
              "      <th>2014-12-03</th>\n",
              "      <td>51610.0</td>\n",
              "    </tr>\n",
              "    <tr>\n",
              "      <th>2014-12-04</th>\n",
              "      <td>52320.0</td>\n",
              "    </tr>\n",
              "    <tr>\n",
              "      <th>2014-12-05</th>\n",
              "      <td>51427.0</td>\n",
              "    </tr>\n",
              "  </tbody>\n",
              "</table>\n",
              "</div>"
            ],
            "text/plain": [
              "               Open\n",
              "Date               \n",
              "2014-12-01  54719.0\n",
              "2014-12-02  52277.0\n",
              "2014-12-03  51610.0\n",
              "2014-12-04  52320.0\n",
              "2014-12-05  51427.0"
            ]
          },
          "metadata": {
            "tags": []
          },
          "execution_count": 10
        }
      ]
    },
    {
      "cell_type": "code",
      "metadata": {
        "id": "0JlGSJ-C2Xqs",
        "colab_type": "code",
        "colab": {
          "base_uri": "https://localhost:8080/",
          "height": 282
        },
        "outputId": "33385e6d-e49d-4077-e005-a94f50ef3c8e"
      },
      "source": [
        "plt.plot(features)"
      ],
      "execution_count": 11,
      "outputs": [
        {
          "output_type": "execute_result",
          "data": {
            "text/plain": [
              "[<matplotlib.lines.Line2D at 0x7f6e1035a358>]"
            ]
          },
          "metadata": {
            "tags": []
          },
          "execution_count": 11
        },
        {
          "output_type": "display_data",
          "data": {
            "image/png": "[encoded data removed]",
            "text/plain": [
              "<Figure size 432x288 with 1 Axes>"
            ]
          },
          "metadata": {
            "tags": [],
            "needs_background": "light"
          }
        }
      ]
    },
    {
      "cell_type": "code",
      "metadata": {
        "id": "OVQK2t8P2v8T",
        "colab_type": "code",
        "colab": {
          "base_uri": "https://localhost:8080/",
          "height": 51
        },
        "outputId": "64ca5fc3-770f-4f3f-beeb-04a35e3418c1"
      },
      "source": [
        "periodos = 30\n",
        "previsao_futuro = 1\n",
        "X = features[0:(len(features)-(len(features) % periodos))]\n",
        "print(X.shape,features.shape)\n",
        "print(len(features), len(features)%periodos)"
      ],
      "execution_count": 23,
      "outputs": [
        {
          "output_type": "stream",
          "text": [
            "(1320, 1) (1344, 1)\n",
            "1344 24\n"
          ],
          "name": "stdout"
        }
      ]
    },
    {
      "cell_type": "code",
      "metadata": {
        "id": "gyqhMY-qB0KT",
        "colab_type": "code",
        "colab": {
          "base_uri": "https://localhost:8080/",
          "height": 34
        },
        "outputId": "52f70f13-3977-47be-affd-84f50dabf267"
      },
      "source": [
        "X_batches = X.values.reshape(-1,periodos,1)\n",
        "print(X_batches.shape)"
      ],
      "execution_count": 30,
      "outputs": [
        {
          "output_type": "stream",
          "text": [
            "(44, 30, 1)\n"
          ],
          "name": "stdout"
        }
      ]
    }
  ]
}